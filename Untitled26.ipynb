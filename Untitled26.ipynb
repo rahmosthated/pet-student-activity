{
  "nbformat": 4,
  "nbformat_minor": 0,
  "metadata": {
    "colab": {
      "provenance": [],
      "authorship_tag": "ABX9TyMjMd+Tn69h8mtWDZwFGoKg",
      "include_colab_link": true
    },
    "kernelspec": {
      "name": "python3",
      "display_name": "Python 3"
    },
    "language_info": {
      "name": "python"
    }
  },
  "cells": [
    {
      "cell_type": "markdown",
      "metadata": {
        "id": "view-in-github",
        "colab_type": "text"
      },
      "source": [
        "<a href=\"https://colab.research.google.com/github/rahmosthated/pet-student-activity/blob/main/Untitled26.ipynb\" target=\"_parent\"><img src=\"https://colab.research.google.com/assets/colab-badge.svg\" alt=\"Open In Colab\"/></a>"
      ]
    },
    {
      "cell_type": "code",
      "execution_count": null,
      "metadata": {
        "id": "YNOGb8LPkUs0"
      },
      "outputs": [],
      "source": [
        "# Define the Pet class to represent pets\n",
        "class Pet:\n",
        "    # Constructor method to initialize pet attributes\n",
        "    def __init__(self, name, pet_type):\n",
        "        self.name = name               # Set the pet's name\n",
        "        self.pet_type = pet_type       # Set the type of pet (e.g., Dog, Cat)\n",
        "\n",
        "    # Define how the pet object will be represented as a string\n",
        "    def __str__(self):\n",
        "        return f\"Pet Name: {self.name}, Type: {self.pet_type}\"  # Return formatted pet details\n",
        "\n",
        "\n",
        "# Define the Person class to represent people\n",
        "class Person:\n",
        "    # Constructor method to initialize person attributes\n",
        "    def __init__(self, name, age):\n",
        "        self.name = name           # Set the person's name\n",
        "        self.age = age             # Set the person's age\n",
        "        self.pet = None            # Initially, the person has no pet\n",
        "\n",
        "    # Method to adopt a pet\n",
        "    def adopt_pet(self, pet):\n",
        "        self.pet = pet                                         # Assign the given Pet object to the person\n",
        "        print(f\"{self.name} has adopted a pet named {pet.name}!\")  # Print a message confirming the adoption\n",
        "\n",
        "    # Method to display the person's and pet's details\n",
        "    def show_details(self):\n",
        "        print(f\"Person Name: {self.name}, Age: {self.age}\")    # Print the person's name and age\n",
        "        if self.pet:                                           # Check if the person has a pet\n",
        "            print(f\"Pet Details -> {self.pet}\")                # If yes, print the pet's details\n",
        "        else:\n",
        "            print(\"No pet adopted yet.\")                       # If no pet, print a message stating that\n",
        "\n",
        "\n",
        "# Only run this block if the script is executed directly\n",
        "if __name__ == \"__main__\":\n",
        "    person1 = Person(\"Alice\", 30)      # Create a Person object named Alice, aged 30\n",
        "    pet1 = Pet(\"Buddy\", \"Dog\")         # Create a Pet object named Buddy, who is a Dog\n",
        "\n",
        "    person1.adopt_pet(pet1)            # Have Alice adopt Buddy\n",
        "    person1.show_details()             # Show the details of Alice and her pet Buddy\n"
      ]
    }
  ]
}