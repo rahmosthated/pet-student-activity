{
  "nbformat": 4,
  "nbformat_minor": 0,
  "metadata": {
    "colab": {
      "provenance": [],
      "authorship_tag": "ABX9TyORaLP0ODzmrfvqBfKKmFzR",
      "include_colab_link": true
    },
    "kernelspec": {
      "name": "python3",
      "display_name": "Python 3"
    },
    "language_info": {
      "name": "python"
    }
  },
  "cells": [
    {
      "cell_type": "markdown",
      "metadata": {
        "id": "view-in-github",
        "colab_type": "text"
      },
      "source": [
        "<a href=\"https://colab.research.google.com/github/rahmosthated/pet-student-activity/blob/main/Untitled27.ipynb\" target=\"_parent\"><img src=\"https://colab.research.google.com/assets/colab-badge.svg\" alt=\"Open In Colab\"/></a>"
      ]
    },
    {
      "cell_type": "code",
      "execution_count": null,
      "metadata": {
        "id": "T8eE5FBQl4Zv"
      },
      "outputs": [],
      "source": [
        "# class: Defines a new blueprint for creating objects (in this case, students)\n",
        "class Student:\n",
        "    # def: Used to define a function or method inside a class\n",
        "    # __init__: A special method in Python called a \"constructor\" — runs when a new object is created\n",
        "    def __init__(self, name, grade):\n",
        "        # self: Refers to the current instance of the class (used to access variables and methods)\n",
        "        self.name = name        # Assign the value of 'name' parameter to the instance variable 'self.name'\n",
        "        self.grade = grade      # Assign the value of 'grade' parameter to the instance variable 'self.grade'\n",
        "\n",
        "    # Method to change the student's grade\n",
        "    # def: Defines another method of the class\n",
        "    def change_grade(self, new_grade):\n",
        "        # self: Refers to the specific student object calling this method\n",
        "        self.grade = new_grade  # Update the grade of this specific student to the new value provided\n",
        "\n",
        "    # Method to display student details\n",
        "    def display_info(self):\n",
        "        #  print: Built-in function to output text to the screen\n",
        "        print(f\"Student Name: {self.name}, Grade: {self.grade}\")  # Display the student's name and grade\n",
        "\n",
        "\n",
        "#  if __name__ == \"__main__\": is used to make sure this block runs only when this file is executed directly\n",
        "if __name__ == \"__main__\":\n",
        "    # Create a new Student object\n",
        "    # student1: This is a variable holding the new student object\n",
        "    #  Student(\"John\", 85): Calls the class constructor to make a new student named John with grade 85\n",
        "    student1 = Student(\"John\", 85)\n",
        "\n",
        "    # Print the initial student details\n",
        "    print(\"Initial Student Info:\")       # Inform the user what's about to be shown\n",
        "    student1.display_info()              # Call the method to show current info of student1\n",
        "\n",
        "    # Change the student's grade\n",
        "    student1.change_grade(92)            # Use the method to change the grade to 92\n",
        "\n",
        "    # Print updated student details\n",
        "    print(\"\\nUpdated Student Info:\")     # Add a blank line then show updated info\n",
        "    student1.display_info()              # Display the updated student info\n"
      ]
    }
  ]
}