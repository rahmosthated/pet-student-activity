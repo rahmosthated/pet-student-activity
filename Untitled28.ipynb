{
  "nbformat": 4,
  "nbformat_minor": 0,
  "metadata": {
    "colab": {
      "provenance": [],
      "authorship_tag": "ABX9TyOKkz1HaM+BWgmecN6cauIw",
      "include_colab_link": true
    },
    "kernelspec": {
      "name": "python3",
      "display_name": "Python 3"
    },
    "language_info": {
      "name": "python"
    }
  },
  "cells": [
    {
      "cell_type": "markdown",
      "metadata": {
        "id": "view-in-github",
        "colab_type": "text"
      },
      "source": [
        "<a href=\"https://colab.research.google.com/github/rahmosthated/pet-student-activity/blob/main/Untitled28.ipynb\" target=\"_parent\"><img src=\"https://colab.research.google.com/assets/colab-badge.svg\" alt=\"Open In Colab\"/></a>"
      ]
    },
    {
      "cell_type": "code",
      "execution_count": null,
      "metadata": {
        "id": "xpTxo3gsmQ5e"
      },
      "outputs": [],
      "source": [
        "# Define a function to suggest an activity for sunny weather\n",
        "#  def: Used to define a function\n",
        "def sunny_activity(name):\n",
        "    # Return a message using the name, suggesting a fun outdoor activity\n",
        "    return f\"{name}, it's a perfect sunny day! How about going for a hike or playing some outdoor sports?\"\n",
        "\n",
        "# Define a function to suggest an activity for rainy weather\n",
        "def rainy_activity(name):\n",
        "    # Return a message using the name, suggesting an indoor activity\n",
        "    return f\"{name}, it's raining outside. A great time to read a book or watch a movie indoors!\"\n",
        "\n",
        "# Define a function to suggest an activity for snowy weather\n",
        "def snowy_activity(name):\n",
        "    # Return a message using the name, suggesting a snow-related activity\n",
        "    return f\"{name}, the snow is falling! Time to build a snowman or go sledding!\"\n",
        "\n",
        "# Define the main function that selects the right activity suggestion\n",
        "def activity_suggestion(weather_condition, name):\n",
        "    # Convert the weather_condition input to lowercase to handle case differences (e.g., \"Sunny\", \"SUNNY\", etc.)\n",
        "    weather_condition = weather_condition.lower()\n",
        "\n",
        "    # Use if-elif-else to decide which activity to suggest based on the weather\n",
        "    if weather_condition == \"sunny\":\n",
        "        # If the weather is sunny, call the sunny_activity function\n",
        "        return sunny_activity(name)\n",
        "    elif weather_condition == \"rainy\":\n",
        "        # If the weather is rainy, call the rainy_activity function\n",
        "        return rainy_activity(name)\n",
        "    elif weather_condition == \"snowy\":\n",
        "        # If the weather is snowy, call the snowy_activity function\n",
        "        return snowy_activity(name)\n",
        "    else:\n",
        "        # If the weather condition is unknown, return a default message\n",
        "        return f\"Sorry {name}, I don't have suggestions for '{weather_condition}' weather.\"\n",
        "\n",
        "# ----------------------------\n",
        "# Function Calls to Test\n",
        "# ----------------------------\n",
        "\n",
        "# Call the main function with different weather and names\n",
        "#  print: Display the returned suggestion message on the screen\n",
        "print(activity_suggestion(\"sunny\", \"Alice\"))     # Test with sunny weather\n",
        "print(activity_suggestion(\"rainy\", \"Bob\"))       # Test with rainy weather\n",
        "print(activity_suggestion(\"snowy\", \"Charlie\"))   # Test with snowy weather\n",
        "\n",
        "# Test with capitalized variations of weather inputs to ensure .lower() works\n",
        "print(activity_suggestion(\"SUNNY\", \"Diana\"))\n",
        "print(activity_suggestion(\"RainY\", \"Ethan\"))\n",
        "print(activity_suggestion(\"SNoWy\", \"Fiona\"))\n",
        "\n",
        "# More tests with typical lowercase inputs\n",
        "print(activity_suggestion(\"sunny\", \"George\"))\n",
        "print(activity_suggestion(\"rainy\", \"Hannah\"))\n",
        "print(activity_suggestion(\"snowy\", \"Ian\"))\n",
        "\n",
        "# Additional test cases to make 12 total\n",
        "print(activity_suggestion(\"sunny\", \"Jade\"))\n",
        "print(activity_suggestion(\"rainy\", \"Kyle\"))\n",
        "print(activity_suggestion(\"snowy\", \"Luna\"))\n"
      ]
    }
  ]
}